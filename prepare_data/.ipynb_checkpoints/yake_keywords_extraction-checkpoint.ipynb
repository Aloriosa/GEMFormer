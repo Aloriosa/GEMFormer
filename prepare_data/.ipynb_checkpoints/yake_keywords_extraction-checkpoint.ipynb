{
 "cells": [
  {
   "cell_type": "code",
   "execution_count": 1,
   "id": "23570c0b",
   "metadata": {},
   "outputs": [],
   "source": [
    "import yake\n",
    "extractor = yake.KeywordExtractor(lan=\"en\", n=1, top=200)\n",
    "def yake_keywords(text, extractor=extractor):\n",
    "    keywords, _ = map(list, zip(*extractor.extract_keywords(text)))\n",
    "    return ' '.join(keywords)"
   ]
  },
  {
   "cell_type": "code",
   "execution_count": 2,
   "id": "fe43dbce",
   "metadata": {},
   "outputs": [],
   "source": [
    "import torch\n",
    "import multiprocessing\n",
    "from joblib import Parallel, delayed"
   ]
  },
  {
   "cell_type": "code",
   "execution_count": null,
   "id": "c8444bed",
   "metadata": {},
   "outputs": [],
   "source": [
    "def create_yake_mem_strings(train_data_path, val_data_path, train_mem_path, val_mem_path):\n",
    "    for data_path, mem_path in zip([train_data_path, val_data_path], [train_mem_path, val_mem_path]):\n",
    "        raw_dataset = torch.load(data_path)\n",
    "        contexts = list(raw_dataset['context'])  \n",
    "        mem_strings = Parallel(n_jobs=multiprocessing.cpu_count(), verbose=10)(delayed(yake_keywords)(text, extractor) for text in contexts)\n",
    "        torch.save(mem_strings, mem_path)"
   ]
  },
  {
   "cell_type": "code",
   "execution_count": null,
   "id": "316f9bf3",
   "metadata": {
    "scrolled": true
   },
   "outputs": [],
   "source": [
    "create_yake_mem_strings('../hotpotqa_train_examples_with_special_seps.pkl', \n",
    "                        '../hotpotqa_val_examples_with_special_seps.pkl', \n",
    "                        '../yake_mem_strings_hotpotqa_train.pkl', \n",
    "                        '../yake_mem_strings_hotpotqa_val.pkl'):\n"
   ]
  },
  {
   "cell_type": "code",
   "execution_count": null,
   "id": "10e8d7d5",
   "metadata": {},
   "outputs": [],
   "source": [
    "create_yake_mem_strings('../musique_train_examples_allenai_style_with_para_seps.pkl', \n",
    "                        '../musique_val_examples_allenai_style_with_para_seps.pkl', \n",
    "                        '../yake_mem_strings_musique_train.pkl', \n",
    "                        '../yake_mem_strings_musique_val.pkl'):\n"
   ]
  },
  {
   "cell_type": "code",
   "execution_count": null,
   "id": "9226aa27",
   "metadata": {},
   "outputs": [],
   "source": [
    "create_yake_mem_strings('../2wikimhqa_train_examples_with_special_seps.pkl', \n",
    "                        '../2wikimhqa_val_examples_with_special_seps.pkl', \n",
    "                        '../yake_mem_strings_2wikimhqa_train.pkl', \n",
    "                        '../yake_mem_strings_2wikimhqa_val.pkl'):\n"
   ]
  },
  {
   "cell_type": "code",
   "execution_count": null,
   "id": "73f5cc6d",
   "metadata": {},
   "outputs": [],
   "source": []
  }
 ],
 "metadata": {
  "kernelspec": {
   "display_name": "hf_venv",
   "language": "python",
   "name": "hf_venv"
  },
  "language_info": {
   "codemirror_mode": {
    "name": "ipython",
    "version": 3
   },
   "file_extension": ".py",
   "mimetype": "text/x-python",
   "name": "python",
   "nbconvert_exporter": "python",
   "pygments_lexer": "ipython3",
   "version": "3.8.10"
  }
 },
 "nbformat": 4,
 "nbformat_minor": 5
}
